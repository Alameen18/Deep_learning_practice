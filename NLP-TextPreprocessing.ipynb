{
 "cells": [
  {
   "cell_type": "code",
   "execution_count": 16,
   "id": "55636579",
   "metadata": {},
   "outputs": [
    {
     "name": "stderr",
     "output_type": "stream",
     "text": [
      "[nltk_data] Downloading package stopwords to\n",
      "[nltk_data]     C:\\Users\\cv\\AppData\\Roaming\\nltk_data...\n",
      "[nltk_data]   Unzipping corpora\\stopwords.zip.\n"
     ]
    },
    {
     "data": {
      "text/plain": [
       "True"
      ]
     },
     "execution_count": 16,
     "metadata": {},
     "output_type": "execute_result"
    }
   ],
   "source": [
    "import nltk\n",
    "nltk.download('stopwords')"
   ]
  },
  {
   "cell_type": "code",
   "execution_count": 2,
   "id": "30d9e50e",
   "metadata": {},
   "outputs": [],
   "source": [
    "paragraph = \"\"\"Khan was born in Lahore on 5 October 1952. Earlier, some reports suggest he was born on 25 November 1952.\n",
    "It was reported that 5 October was wrongly mentioned by Pakistan Cricket Board officials on his passport. \n",
    "He is the only son of Ikramullah Khan Niazi, a civil engineer, and his wife Shaukat Khanum, and has four sisters. Long settled\n",
    "in Mianwali in northwestern Punjab, his paternal family are of Pashtun ethnicity and belong to the Niazi tribe, and one of his\n",
    "ancestors, Haibat Khan Niazi, in the 16th century, \"was one of Sher Shah Suri's leading generals, as well as being the governor\n",
    "of Punjab.\"Like his father, Khan's mother was an ethnic Pashtun, who belonged to the Burki tribe and whose ancestors had been\n",
    "settled in the Jalandhar district of Punjab for centuries. Following the creation of Pakistan, she migrated to Lahore with\n",
    "the rest of Khan's maternal relatives. Khan's maternal family has produced a number of cricketers, including those who\n",
    "have represented Pakistan,such as his cousins Javed Burki and Majid Khan. Maternally, Khan is also a descendant of the\n",
    "Sufi warrior-poet and inventor of the Pashto alphabet, Pir Roshan, who hailed from his maternal family's ancestral\n",
    "Kaniguram town located in South Waziristan in the tribal areas of northwest Pakistan. His maternal family was based in \n",
    "Basti Danishmanda, Jalandhar, India for about 600 years. A quiet and shy boy in his youth, Khan grew up with his sisters \n",
    "in relatively affluent, upper middle-class circumstances and received a privileged education.\n",
    "He was educated at the Aitchison College and Cathedral School in Lahore, and then the Royal Grammar School Worcester \n",
    "in England, where he excelled at cricket. In 1972, he enrolled in Keble College, Oxford where he studied Philosophy, \n",
    "Politics and Economics, graduating in 1975. An enthusiast for college cricket at Keble, Paul Hayes, was instrumental \n",
    "in securing the admission of Khan, after he had been turned down by Cambridge\"\"\""
   ]
  },
  {
   "cell_type": "code",
   "execution_count": 10,
   "id": "1667e162",
   "metadata": {},
   "outputs": [
    {
     "name": "stdout",
     "output_type": "stream",
     "text": [
      "14\n",
      "Khan was born in Lahore on 5 October 1952.\n",
      "\n",
      "Earlier, some reports suggest he was born on 25 November 1952.\n",
      "\n",
      "It was reported that 5 October was wrongly mentioned by Pakistan Cricket Board officials on his passport.\n",
      "\n",
      "He is the only son of Ikramullah Khan Niazi, a civil engineer, and his wife Shaukat Khanum, and has four sisters.\n",
      "\n",
      "Long settled\n",
      "in Mianwali in northwestern Punjab, his paternal family are of Pashtun ethnicity and belong to the Niazi tribe, and one of his\n",
      "ancestors, Haibat Khan Niazi, in the 16th century, \"was one of Sher Shah Suri's leading generals, as well as being the governor\n",
      "of Punjab.\n",
      "\n",
      "\"Like his father, Khan's mother was an ethnic Pashtun, who belonged to the Burki tribe and whose ancestors had been\n",
      "settled in the Jalandhar district of Punjab for centuries.\n",
      "\n",
      "Following the creation of Pakistan, she migrated to Lahore with\n",
      "the rest of Khan's maternal relatives.\n",
      "\n",
      "Khan's maternal family has produced a number of cricketers, including those who\n",
      "have represented Pakistan,such as his cousins Javed Burki and Majid Khan.\n",
      "\n",
      "Maternally, Khan is also a descendant of the\n",
      "Sufi warrior-poet and inventor of the Pashto alphabet, Pir Roshan, who hailed from his maternal family's ancestral\n",
      "Kaniguram town located in South Waziristan in the tribal areas of northwest Pakistan.\n",
      "\n",
      "His maternal family was based in \n",
      "Basti Danishmanda, Jalandhar, India for about 600 years.\n",
      "\n",
      "A quiet and shy boy in his youth, Khan grew up with his sisters \n",
      "in relatively affluent, upper middle-class circumstances and received a privileged education.\n",
      "\n",
      "He was educated at the Aitchison College and Cathedral School in Lahore, and then the Royal Grammar School Worcester \n",
      "in England, where he excelled at cricket.\n",
      "\n",
      "In 1972, he enrolled in Keble College, Oxford where he studied Philosophy, \n",
      "Politics and Economics, graduating in 1975.\n",
      "\n",
      "An enthusiast for college cricket at Keble, Paul Hayes, was instrumental \n",
      "in securing the admission of Khan, after he had been turned down by Cambridge\n",
      "\n"
     ]
    }
   ],
   "source": [
    "sentence = nltk.sent_tokenize(paragraph)\n",
    "print(len(sentence))\n",
    "for i in sentence:\n",
    "    print(i)\n",
    "    print()"
   ]
  },
  {
   "cell_type": "markdown",
   "id": "ad0e2288",
   "metadata": {},
   "source": [
    "# using regular expression for droping all comas and special character "
   ]
  },
  {
   "cell_type": "code",
   "execution_count": 14,
   "id": "3ec9f315",
   "metadata": {
    "scrolled": true
   },
   "outputs": [
    {
     "name": "stdout",
     "output_type": "stream",
     "text": [
      "['khan was born in lahore on 5 october 1952 ', 'earlier  some reports suggest he was born on 25 november 1952 ', 'it was reported that 5 october was wrongly mentioned by pakistan cricket board officials on his passport ', 'he is the only son of ikramullah khan niazi  a civil engineer  and his wife shaukat khanum  and has four sisters ', 'long settled in mianwali in northwestern punjab  his paternal family are of pashtun ethnicity and belong to the niazi tribe  and one of his ancestors  haibat khan niazi  in the 16th century   was one of sher shah suri s leading generals  as well as being the governor of punjab ', ' like his father  khan s mother was an ethnic pashtun  who belonged to the burki tribe and whose ancestors had been settled in the jalandhar district of punjab for centuries ', 'following the creation of pakistan  she migrated to lahore with the rest of khan s maternal relatives ', 'khan s maternal family has produced a number of cricketers  including those who have represented pakistan such as his cousins javed burki and majid khan ', 'maternally  khan is also a descendant of the sufi warrior poet and inventor of the pashto alphabet  pir roshan  who hailed from his maternal family s ancestral kaniguram town located in south waziristan in the tribal areas of northwest pakistan ', 'his maternal family was based in  basti danishmanda  jalandhar  india for about 600 years ', 'a quiet and shy boy in his youth  khan grew up with his sisters  in relatively affluent  upper middle class circumstances and received a privileged education ', 'he was educated at the aitchison college and cathedral school in lahore  and then the royal grammar school worcester  in england  where he excelled at cricket ', 'in 1972  he enrolled in keble college  oxford where he studied philosophy   politics and economics  graduating in 1975 ', 'an enthusiast for college cricket at keble  paul hayes  was instrumental  in securing the admission of khan  after he had been turned down by cambridge']\n"
     ]
    }
   ],
   "source": [
    "corpus = []\n",
    "import re\n",
    "for sent in sentence:\n",
    "    corpus.append(re.sub('[^a-zA-Z0-9]',\" \",sent).lower())\n",
    "    \n",
    "print(corpus)"
   ]
  },
  {
   "cell_type": "markdown",
   "id": "0b1a2444",
   "metadata": {},
   "source": [
    "# use of stammer to convert the original word to base word and filtering stopwords"
   ]
  },
  {
   "cell_type": "code",
   "execution_count": 21,
   "id": "384b080c",
   "metadata": {},
   "outputs": [
    {
     "data": {
      "text/plain": [
       "['khan born lahor 5 octob 1952 ',\n",
       " 'earlier report suggest born 25 novemb 1952 ',\n",
       " 'report 5 octob wrongli mention pakistan cricket board offici passport ',\n",
       " 'son ikramullah khan niazi civil engin wife shaukat khanum four sister ',\n",
       " 'long settl mianwali northwestern punjab patern famili pashtun ethnic belong niazi tribe one ancestor haibat khan niazi 16th centuri one sher shah suri lead gener well governor punjab ',\n",
       " 'like father khan mother ethnic pashtun belong burki tribe whose ancestor settl jalandhar district punjab centuri ',\n",
       " 'follow creation pakistan migrat lahor rest khan matern rel ',\n",
       " 'khan matern famili produc number cricket includ repres pakistan cousin jave burki majid khan ',\n",
       " 'matern khan also descend sufi warrior poet inventor pashto alphabet pir roshan hail matern famili ancestr kaniguram town locat south waziristan tribal area northwest pakistan ',\n",
       " 'matern famili base basti danishmanda jalandhar india 600 year ',\n",
       " 'quiet shi boy youth khan grew sister rel affluent upper middl class circumst receiv privileg educ ',\n",
       " 'educ aitchison colleg cathedr school lahor royal grammar school worcest england excel cricket ',\n",
       " '1972 enrol kebl colleg oxford studi philosophi polit econom graduat 1975 ',\n",
       " 'enthusiast colleg cricket kebl paul hay instrument secur admiss khan turn cambridg ']"
      ]
     },
     "execution_count": 21,
     "metadata": {},
     "output_type": "execute_result"
    }
   ],
   "source": [
    "from nltk.stem import PorterStemmer\n",
    "from nltk.corpus import stopwords\n",
    "stemmer = PorterStemmer()\n",
    "stemmed_corpus = []\n",
    "stop_words = []\n",
    "# seperating words and stop words and applying stemming on words\n",
    "for sent in corpus:\n",
    "    stemmed_doc = \"\"\n",
    "    words = nltk.word_tokenize(sent)\n",
    "    for word in words:\n",
    "        if word not in stopwords.words('english'):\n",
    "            stemmed_doc += stemmer.stem(word)+ \" \"\n",
    "        else:\n",
    "            stop_words.append(word)\n",
    "    stemmed_corpus.append(stemmed_doc)\n",
    "stemmed_corpus"
   ]
  },
  {
   "cell_type": "markdown",
   "id": "1b3d7cb1",
   "metadata": {},
   "source": [
    "# all the words after applying stemming"
   ]
  },
  {
   "cell_type": "code",
   "execution_count": 22,
   "id": "f59e68cd",
   "metadata": {},
   "outputs": [
    {
     "name": "stdout",
     "output_type": "stream",
     "text": [
      "khan born lahor 5 octob 1952  earlier report suggest born 25 novemb 1952  report 5 octob wrongli mention pakistan cricket board offici passport  son ikramullah khan niazi civil engin wife shaukat khanum four sister  long settl mianwali northwestern punjab patern famili pashtun ethnic belong niazi tribe one ancestor haibat khan niazi 16th centuri one sher shah suri lead gener well governor punjab  like father khan mother ethnic pashtun belong burki tribe whose ancestor settl jalandhar district punjab centuri  follow creation pakistan migrat lahor rest khan matern rel  khan matern famili produc number cricket includ repres pakistan cousin jave burki majid khan  matern khan also descend sufi warrior poet inventor pashto alphabet pir roshan hail matern famili ancestr kaniguram town locat south waziristan tribal area northwest pakistan  matern famili base basti danishmanda jalandhar india 600 year  quiet shi boy youth khan grew sister rel affluent upper middl class circumst receiv privileg educ  educ aitchison colleg cathedr school lahor royal grammar school worcest england excel cricket  1972 enrol kebl colleg oxford studi philosophi polit econom graduat 1975  enthusiast colleg cricket kebl paul hay instrument secur admiss khan turn cambridg  "
     ]
    }
   ],
   "source": [
    "for doc in stemmed_corpus:\n",
    "    print(doc, end=\" \")"
   ]
  },
  {
   "cell_type": "code",
   "execution_count": 25,
   "id": "f8c3c8ff",
   "metadata": {},
   "outputs": [
    {
     "name": "stdout",
     "output_type": "stream",
     "text": [
      "was in on some he was on it was that was by on his he is the only of a and his and has in in his are of and to the and of his in the was of s as as being the of his s was an who to the and had been in the of for the of she to with the of s s has a of those who have such as his and is a of the and of the who from his s in in the of his was in for about a and in his up with his in and a he was at the and in and then the in where he at in he in where he and in an for at was in the of after he had been down by "
     ]
    }
   ],
   "source": [
    "for stop in stop_words:\n",
    "    print(stop, end=\" \")"
   ]
  },
  {
   "cell_type": "markdown",
   "id": "b8ef8b3f",
   "metadata": {},
   "source": [
    "# Using lemitizer to get a meaningfull words of a word"
   ]
  },
  {
   "cell_type": "code",
   "execution_count": 30,
   "id": "c559b8e5",
   "metadata": {},
   "outputs": [
    {
     "name": "stderr",
     "output_type": "stream",
     "text": [
      "[nltk_data] Downloading package wordnet to\n",
      "[nltk_data]     C:\\Users\\cv\\AppData\\Roaming\\nltk_data...\n"
     ]
    },
    {
     "data": {
      "text/plain": [
       "True"
      ]
     },
     "execution_count": 30,
     "metadata": {},
     "output_type": "execute_result"
    }
   ],
   "source": [
    "from nltk.stem import WordNetLemmatizer \n",
    "nltk.download('wordnet')"
   ]
  },
  {
   "cell_type": "code",
   "execution_count": 38,
   "id": "358fc4c6",
   "metadata": {},
   "outputs": [],
   "source": [
    "lemmatizer = WordNetLemmatizer()"
   ]
  },
  {
   "cell_type": "code",
   "execution_count": 39,
   "id": "c1031941",
   "metadata": {},
   "outputs": [
    {
     "data": {
      "text/plain": [
       "['khan born lahor 5 octob 1952 ',\n",
       " 'earlier report suggest born 25 novemb 1952 ',\n",
       " 'report 5 octob wrongli mention pakistan cricket board offici passport ',\n",
       " 'son ikramullah khan niazi civil engin wife shaukat khanum four sister ',\n",
       " 'long settl mianwali northwestern punjab patern famili pashtun ethnic belong niazi tribe one ancestor haibat khan niazi 16th centuri one sher shah suri lead gener well governor punjab ',\n",
       " 'like father khan mother ethnic pashtun belong burki tribe whose ancestor settl jalandhar district punjab centuri ',\n",
       " 'follow creation pakistan migrat lahor rest khan matern rel ',\n",
       " 'khan matern famili produc number cricket includ repres pakistan cousin jave burki majid khan ',\n",
       " 'matern khan also descend sufi warrior poet inventor pashto alphabet pir roshan hail matern famili ancestr kaniguram town locat south waziristan tribal area northwest pakistan ',\n",
       " 'matern famili base basti danishmanda jalandhar india 600 year ',\n",
       " 'quiet shi boy youth khan grew sister rel affluent upper middl class circumst receiv privileg educ ',\n",
       " 'educ aitchison colleg cathedr school lahor royal grammar school worcest england excel cricket ',\n",
       " '1972 enrol kebl colleg oxford studi philosophi polit econom graduat 1975 ',\n",
       " 'enthusiast colleg cricket kebl paul hay instrument secur admiss khan turn cambridg ']"
      ]
     },
     "execution_count": 39,
     "metadata": {},
     "output_type": "execute_result"
    }
   ],
   "source": [
    "stemmed_corpus"
   ]
  },
  {
   "cell_type": "code",
   "execution_count": 44,
   "id": "729d7d47",
   "metadata": {},
   "outputs": [
    {
     "name": "stdout",
     "output_type": "stream",
     "text": [
      "12\n"
     ]
    }
   ],
   "source": [
    "stemmed_lemmatize_corpus = []\n",
    "for corp in stemmed_corpus:\n",
    "    lemmatize_doc = \"\"\n",
    "    words = nltk.word_tokenize(corp)\n",
    "    for word in words:\n",
    "        lemmatize_doc += lemmatizer.lemmatize(word)+ \" \"\n",
    "    stemmed_lemmatize_corpus.append(lemmatize_doc)\n",
    "    \n",
    "stemmed_lemmatize_corpus"
   ]
  },
  {
   "cell_type": "markdown",
   "id": "47d6be84",
   "metadata": {},
   "source": [
    "# a short example to understand whats going on"
   ]
  },
  {
   "cell_type": "code",
   "execution_count": 65,
   "id": "d28a440d",
   "metadata": {},
   "outputs": [
    {
     "name": "stdout",
     "output_type": "stream",
     "text": [
      "Encoding Document is: \n",
      "[[1 1 1 1 0 0 0 0 1 1 0]\n",
      " [0 0 0 1 0 0 1 1 1 1 0]\n",
      " [1 1 1 1 1 1 0 0 1 1 1]]\n"
     ]
    }
   ],
   "source": [
    "from sklearn.feature_extraction.text import CountVectorizer\n",
    "document = [\"One Geek helps two Geeks\",\n",
    "           \"Two Geeks helps four Geeks\",\n",
    "           \"Each Geek helps many other Geeks at Geeks for Geeks\"]\n",
    "# Create a vectorizer object \n",
    "vectorizer = CountVectorizer(binary=True,ngram_range=(1,3),stop_words='english')\n",
    "\n",
    "vectorizer.fit(document)\n",
    "vacab = vectorizer.vocabulary_\n",
    "\n",
    "# Encode the document\n",
    "vector = vectorizer.transform(document)\n",
    "\n",
    "# Summerizing the encoding text\n",
    "print(\"Encoding Document is: \")\n",
    "print(vector.toarray())"
   ]
  },
  {
   "cell_type": "code",
   "execution_count": 60,
   "id": "322dba6d",
   "metadata": {},
   "outputs": [
    {
     "name": "stdout",
     "output_type": "stream",
     "text": [
      "vacabulary {'geek': 0, 'helps': 8, 'geeks': 3, 'geek helps': 1, 'helps geeks': 9, 'geek helps geeks': 2, 'geeks helps': 6, 'geeks helps geeks': 7, 'geeks geeks': 4, 'helps geeks geeks': 10, 'geeks geeks geeks': 5}\n"
     ]
    }
   ],
   "source": [
    "print('vacabulary',vacab)"
   ]
  },
  {
   "cell_type": "code",
   "execution_count": 66,
   "id": "6a5009c5",
   "metadata": {},
   "outputs": [],
   "source": [
    "# This is actual code for above model\n",
    "from sklearn.feature_extraction.text import CountVectorizer\n",
    "Binary_BOW_vectorizer = CountVectorizer(binary=True, stop_words='english')"
   ]
  },
  {
   "cell_type": "code",
   "execution_count": 68,
   "id": "683fb82f",
   "metadata": {},
   "outputs": [
    {
     "name": "stdout",
     "output_type": "stream",
     "text": [
      "['khan  born  lahor  5  octob  1952  ', 'earlier  report  suggest  born  25  novemb  1952  ', 'report  5  octob  wrongli  mention  pakistan  cricket  board  offici  passport  ', 'son  ikramullah  khan  niazi  civil  engin  wife  shaukat  khanum  four  sister  ', 'long  settl  mianwali  northwestern  punjab  patern  famili  pashtun  ethnic  belong  niazi  tribe  one  ancestor  haibat  khan  niazi  16th  centuri  one  sher  shah  suri  lead  gener  well  governor  punjab  ', 'like  father  khan  mother  ethnic  pashtun  belong  burki  tribe  whose  ancestor  settl  jalandhar  district  punjab  centuri  ', 'follow  creation  pakistan  migrat  lahor  rest  khan  matern  rel  ', 'khan  matern  famili  produc  number  cricket  includ  repres  pakistan  cousin  jave  burki  majid  khan  ', 'matern  khan  also  descend  sufi  warrior  poet  inventor  pashto  alphabet  pir  roshan  hail  matern  famili  ancestr  kaniguram  town  locat  south  waziristan  tribal  area  northwest  pakistan  ', 'matern  famili  base  basti  danishmanda  jalandhar  india  600  year  ', 'quiet  shi  boy  youth  khan  grew  sister  rel  affluent  upper  middl  class  circumst  receiv  privileg  educ  ', 'educ  aitchison  colleg  cathedr  school  lahor  royal  grammar  school  worcest  england  excel  cricket  ', '1972  enrol  kebl  colleg  oxford  studi  philosophi  polit  econom  graduat  1975  ', 'enthusiast  colleg  cricket  kebl  paul  hay  instrument  secur  admiss  khan  turn  cambridg  ']\n"
     ]
    }
   ],
   "source": [
    "# This is the code where i stemming and lemitizing the words simultanously \n",
    "from nltk.stem import PorterStemmer\n",
    "from nltk.corpus import stopwords\n",
    "\n",
    "stemmed = PorterStemmer()\n",
    "stemmed_lemitizer_corpus = []\n",
    "stop_words = []\n",
    "\n",
    "for sent in corpus:\n",
    "    stemmed_lemi_doc = \"\"\n",
    "    words = nltk.word_tokenize(sent)\n",
    "    for word in words:\n",
    "        if word not in stopwords.words('english'):\n",
    "            stem_word = stemmer.stem(word)+ \" \"\n",
    "            stemmed_lemi_doc += lemmatizer.lemmatize(stem_word)+ \" \"\n",
    "        else:\n",
    "            stop_words.append(word)\n",
    "    stemmed_lemitizer_corpus.append(stemmed_lemi_doc)\n",
    "    \n",
    "print(stemmed_lemitizer_corpus)"
   ]
  },
  {
   "cell_type": "code",
   "execution_count": 69,
   "id": "2caf836d",
   "metadata": {},
   "outputs": [
    {
     "data": {
      "text/plain": [
       "<14x131 sparse matrix of type '<class 'numpy.int64'>'\n",
       "\twith 174 stored elements in Compressed Sparse Row format>"
      ]
     },
     "execution_count": 69,
     "metadata": {},
     "output_type": "execute_result"
    }
   ],
   "source": [
    "# this is the code where i transform preprocess senrences \n",
    "x = Binary_BOW_vectorizer.fit_transform(stemmed_lemitizer_corpus)\n",
    "x"
   ]
  },
  {
   "cell_type": "code",
   "execution_count": 73,
   "id": "1bc3ac98",
   "metadata": {},
   "outputs": [
    {
     "data": {
      "text/plain": [
       "{'khan': 62,\n",
       " 'born': 17,\n",
       " 'lahor': 64,\n",
       " 'octob': 81,\n",
       " '1952': 1,\n",
       " 'earlier': 33,\n",
       " 'report': 100,\n",
       " 'suggest': 117,\n",
       " '25': 4,\n",
       " 'novemb': 79,\n",
       " 'wrongli': 128,\n",
       " 'mention': 71,\n",
       " 'pakistan': 84,\n",
       " 'cricket': 29,\n",
       " 'board': 16,\n",
       " 'offici': 82,\n",
       " 'passport': 87,\n",
       " 'son': 113,\n",
       " 'ikramullah': 53,\n",
       " 'niazi': 76,\n",
       " 'civil': 24,\n",
       " 'engin': 36,\n",
       " 'wife': 126,\n",
       " 'shaukat': 109,\n",
       " 'khanum': 63,\n",
       " 'sister': 112,\n",
       " 'long': 68,\n",
       " 'settl': 107,\n",
       " 'mianwali': 72,\n",
       " 'northwestern': 78,\n",
       " 'punjab': 96,\n",
       " 'patern': 88,\n",
       " 'famili': 42,\n",
       " 'pashtun': 86,\n",
       " 'ethnic': 40,\n",
       " 'belong': 15,\n",
       " 'tribe': 121,\n",
       " 'ancestor': 10,\n",
       " 'haibat': 50,\n",
       " '16th': 0,\n",
       " 'centuri': 22,\n",
       " 'sher': 110,\n",
       " 'shah': 108,\n",
       " 'suri': 118,\n",
       " 'lead': 65,\n",
       " 'gener': 45,\n",
       " 'governor': 46,\n",
       " 'like': 66,\n",
       " 'father': 43,\n",
       " 'mother': 75,\n",
       " 'burki': 19,\n",
       " 'jalandhar': 58,\n",
       " 'district': 32,\n",
       " 'follow': 44,\n",
       " 'creation': 28,\n",
       " 'migrat': 74,\n",
       " 'rest': 102,\n",
       " 'matern': 70,\n",
       " 'rel': 99,\n",
       " 'produc': 95,\n",
       " 'number': 80,\n",
       " 'includ': 54,\n",
       " 'repres': 101,\n",
       " 'cousin': 27,\n",
       " 'jave': 59,\n",
       " 'majid': 69,\n",
       " 'descend': 31,\n",
       " 'sufi': 116,\n",
       " 'warrior': 124,\n",
       " 'poet': 92,\n",
       " 'inventor': 57,\n",
       " 'pashto': 85,\n",
       " 'alphabet': 9,\n",
       " 'pir': 91,\n",
       " 'roshan': 103,\n",
       " 'hail': 51,\n",
       " 'ancestr': 11,\n",
       " 'kaniguram': 60,\n",
       " 'town': 119,\n",
       " 'locat': 67,\n",
       " 'south': 114,\n",
       " 'waziristan': 125,\n",
       " 'tribal': 120,\n",
       " 'area': 12,\n",
       " 'northwest': 77,\n",
       " 'base': 13,\n",
       " 'basti': 14,\n",
       " 'danishmanda': 30,\n",
       " 'india': 55,\n",
       " '600': 5,\n",
       " 'year': 129,\n",
       " 'quiet': 97,\n",
       " 'shi': 111,\n",
       " 'boy': 18,\n",
       " 'youth': 130,\n",
       " 'grew': 49,\n",
       " 'affluent': 7,\n",
       " 'upper': 123,\n",
       " 'middl': 73,\n",
       " 'class': 25,\n",
       " 'circumst': 23,\n",
       " 'receiv': 98,\n",
       " 'privileg': 94,\n",
       " 'educ': 35,\n",
       " 'aitchison': 8,\n",
       " 'colleg': 26,\n",
       " 'cathedr': 21,\n",
       " 'school': 105,\n",
       " 'royal': 104,\n",
       " 'grammar': 48,\n",
       " 'worcest': 127,\n",
       " 'england': 37,\n",
       " 'excel': 41,\n",
       " '1972': 2,\n",
       " 'enrol': 38,\n",
       " 'kebl': 61,\n",
       " 'oxford': 83,\n",
       " 'studi': 115,\n",
       " 'philosophi': 90,\n",
       " 'polit': 93,\n",
       " 'econom': 34,\n",
       " 'graduat': 47,\n",
       " '1975': 3,\n",
       " 'enthusiast': 39,\n",
       " 'paul': 89,\n",
       " 'hay': 52,\n",
       " 'instrument': 56,\n",
       " 'secur': 106,\n",
       " 'admiss': 6,\n",
       " 'turn': 122,\n",
       " 'cambridg': 20}"
      ]
     },
     "execution_count": 73,
     "metadata": {},
     "output_type": "execute_result"
    }
   ],
   "source": [
    "Binary_BOW_vectorizer.vocabulary_"
   ]
  },
  {
   "cell_type": "code",
   "execution_count": 74,
   "id": "02609113",
   "metadata": {},
   "outputs": [],
   "source": [
    "Row_words = CountVectorizer(binary=True,stop_words='english')"
   ]
  },
  {
   "cell_type": "code",
   "execution_count": 75,
   "id": "d0c7edef",
   "metadata": {},
   "outputs": [
    {
     "data": {
      "text/plain": [
       "<14x139 sparse matrix of type '<class 'numpy.int64'>'\n",
       "\twith 175 stored elements in Compressed Sparse Row format>"
      ]
     },
     "execution_count": 75,
     "metadata": {},
     "output_type": "execute_result"
    }
   ],
   "source": [
    "a = Row_words.fit_transform(corpus)\n",
    "a"
   ]
  },
  {
   "cell_type": "code",
   "execution_count": 76,
   "id": "18c9d882",
   "metadata": {},
   "outputs": [
    {
     "data": {
      "text/plain": [
       "{'khan': 67,\n",
       " 'born': 18,\n",
       " 'lahore': 69,\n",
       " 'october': 87,\n",
       " '1952': 1,\n",
       " 'earlier': 36,\n",
       " 'reports': 108,\n",
       " 'suggest': 125,\n",
       " '25': 4,\n",
       " 'november': 85,\n",
       " 'reported': 107,\n",
       " 'wrongly': 136,\n",
       " 'mentioned': 77,\n",
       " 'pakistan': 90,\n",
       " 'cricket': 31,\n",
       " 'board': 17,\n",
       " 'officials': 88,\n",
       " 'passport': 93,\n",
       " 'son': 121,\n",
       " 'ikramullah': 58,\n",
       " 'niazi': 82,\n",
       " 'civil': 26,\n",
       " 'engineer': 40,\n",
       " 'wife': 134,\n",
       " 'shaukat': 117,\n",
       " 'khanum': 68,\n",
       " 'sisters': 120,\n",
       " 'long': 73,\n",
       " 'settled': 115,\n",
       " 'mianwali': 78,\n",
       " 'northwestern': 84,\n",
       " 'punjab': 102,\n",
       " 'paternal': 94,\n",
       " 'family': 47,\n",
       " 'pashtun': 92,\n",
       " 'ethnicity': 45,\n",
       " 'belong': 15,\n",
       " 'tribe': 129,\n",
       " 'ancestors': 10,\n",
       " 'haibat': 55,\n",
       " '16th': 0,\n",
       " 'century': 24,\n",
       " 'sher': 118,\n",
       " 'shah': 116,\n",
       " 'suri': 126,\n",
       " 'leading': 70,\n",
       " 'generals': 50,\n",
       " 'governor': 51,\n",
       " 'like': 71,\n",
       " 'father': 48,\n",
       " 'mother': 81,\n",
       " 'ethnic': 44,\n",
       " 'belonged': 16,\n",
       " 'burki': 20,\n",
       " 'jalandhar': 63,\n",
       " 'district': 35,\n",
       " 'centuries': 23,\n",
       " 'following': 49,\n",
       " 'creation': 30,\n",
       " 'migrated': 80,\n",
       " 'rest': 110,\n",
       " 'maternal': 75,\n",
       " 'relatives': 106,\n",
       " 'produced': 101,\n",
       " 'number': 86,\n",
       " 'cricketers': 32,\n",
       " 'including': 59,\n",
       " 'represented': 109,\n",
       " 'cousins': 29,\n",
       " 'javed': 64,\n",
       " 'majid': 74,\n",
       " 'maternally': 76,\n",
       " 'descendant': 34,\n",
       " 'sufi': 124,\n",
       " 'warrior': 132,\n",
       " 'poet': 98,\n",
       " 'inventor': 62,\n",
       " 'pashto': 91,\n",
       " 'alphabet': 9,\n",
       " 'pir': 97,\n",
       " 'roshan': 111,\n",
       " 'hailed': 56,\n",
       " 'ancestral': 11,\n",
       " 'kaniguram': 65,\n",
       " 'town': 127,\n",
       " 'located': 72,\n",
       " 'south': 122,\n",
       " 'waziristan': 133,\n",
       " 'tribal': 128,\n",
       " 'areas': 12,\n",
       " 'northwest': 83,\n",
       " 'based': 13,\n",
       " 'basti': 14,\n",
       " 'danishmanda': 33,\n",
       " 'india': 60,\n",
       " '600': 5,\n",
       " 'years': 137,\n",
       " 'quiet': 103,\n",
       " 'shy': 119,\n",
       " 'boy': 19,\n",
       " 'youth': 138,\n",
       " 'grew': 54,\n",
       " 'relatively': 105,\n",
       " 'affluent': 7,\n",
       " 'upper': 131,\n",
       " 'middle': 79,\n",
       " 'class': 27,\n",
       " 'circumstances': 25,\n",
       " 'received': 104,\n",
       " 'privileged': 100,\n",
       " 'education': 39,\n",
       " 'educated': 38,\n",
       " 'aitchison': 8,\n",
       " 'college': 28,\n",
       " 'cathedral': 22,\n",
       " 'school': 113,\n",
       " 'royal': 112,\n",
       " 'grammar': 53,\n",
       " 'worcester': 135,\n",
       " 'england': 41,\n",
       " 'excelled': 46,\n",
       " '1972': 2,\n",
       " 'enrolled': 42,\n",
       " 'keble': 66,\n",
       " 'oxford': 89,\n",
       " 'studied': 123,\n",
       " 'philosophy': 96,\n",
       " 'politics': 99,\n",
       " 'economics': 37,\n",
       " 'graduating': 52,\n",
       " '1975': 3,\n",
       " 'enthusiast': 43,\n",
       " 'paul': 95,\n",
       " 'hayes': 57,\n",
       " 'instrumental': 61,\n",
       " 'securing': 114,\n",
       " 'admission': 6,\n",
       " 'turned': 130,\n",
       " 'cambridge': 21}"
      ]
     },
     "execution_count": 76,
     "metadata": {},
     "output_type": "execute_result"
    }
   ],
   "source": [
    "Row_words.vocabulary_"
   ]
  },
  {
   "cell_type": "code",
   "execution_count": 77,
   "id": "9ba8ef52",
   "metadata": {},
   "outputs": [
    {
     "data": {
      "text/plain": [
       "139"
      ]
     },
     "execution_count": 77,
     "metadata": {},
     "output_type": "execute_result"
    }
   ],
   "source": [
    "len(Row_words.vocabulary_)"
   ]
  },
  {
   "cell_type": "code",
   "execution_count": 79,
   "id": "eeae5dd4",
   "metadata": {},
   "outputs": [
    {
     "data": {
      "text/plain": [
       "131"
      ]
     },
     "execution_count": 79,
     "metadata": {},
     "output_type": "execute_result"
    }
   ],
   "source": [
    "len(Binary_BOW_vectorizer.vocabulary_)"
   ]
  },
  {
   "cell_type": "markdown",
   "id": "ae39a479",
   "metadata": {},
   "source": [
    "# All the above applied process in one code"
   ]
  },
  {
   "cell_type": "code",
   "execution_count": 1,
   "id": "d22d75c7",
   "metadata": {},
   "outputs": [
    {
     "ename": "NameError",
     "evalue": "name 'sentence' is not defined",
     "output_type": "error",
     "traceback": [
      "\u001b[1;31m---------------------------------------------------------------------------\u001b[0m",
      "\u001b[1;31mNameError\u001b[0m                                 Traceback (most recent call last)",
      "Cell \u001b[1;32mIn[1], line 6\u001b[0m\n\u001b[0;32m      3\u001b[0m \u001b[38;5;28;01mfrom\u001b[39;00m \u001b[38;5;21;01mnltk\u001b[39;00m\u001b[38;5;21;01m.\u001b[39;00m\u001b[38;5;21;01mstem\u001b[39;00m \u001b[38;5;28;01mimport\u001b[39;00m PorterStemmer\n\u001b[0;32m      4\u001b[0m corpus \u001b[38;5;241m=\u001b[39m []\n\u001b[1;32m----> 6\u001b[0m \u001b[38;5;28;01mfor\u001b[39;00m sent \u001b[38;5;129;01min\u001b[39;00m \u001b[38;5;28mrange\u001b[39m(\u001b[38;5;28mlen\u001b[39m(sentence)):\n\u001b[0;32m      7\u001b[0m     review \u001b[38;5;241m=\u001b[39m re\u001b[38;5;241m.\u001b[39msub(\u001b[38;5;124m'\u001b[39m\u001b[38;5;124m[^a-zA-Z0-9]\u001b[39m\u001b[38;5;124m'\u001b[39m,\u001b[38;5;124m\"\u001b[39m\u001b[38;5;124m \u001b[39m\u001b[38;5;124m\"\u001b[39m,sentence[sent])\u001b[38;5;241m.\u001b[39mlower()\u001b[38;5;241m.\u001b[39msplit()\n\u001b[0;32m      9\u001b[0m     review \u001b[38;5;241m=\u001b[39m [lemmatizer\u001b[38;5;241m.\u001b[39mlemmatize(word) \u001b[38;5;28;01mfor\u001b[39;00m word \u001b[38;5;129;01min\u001b[39;00m reivew \u001b[38;5;28;01mif\u001b[39;00m \u001b[38;5;129;01mnot\u001b[39;00m word \u001b[38;5;129;01min\u001b[39;00m \u001b[38;5;28mset\u001b[39m(stopwords\u001b[38;5;241m.\u001b[39mwords(\u001b[38;5;124m'\u001b[39m\u001b[38;5;124menglish\u001b[39m\u001b[38;5;124m'\u001b[39m))]\n",
      "\u001b[1;31mNameError\u001b[0m: name 'sentence' is not defined"
     ]
    }
   ],
   "source": [
    "import re\n",
    "from nltk.corpus import stopwords\n",
    "from nltk.stem import PorterStemmer\n",
    "corpus = []\n",
    "\n",
    "for sent in range(len(sentence)):\n",
    "    review = re.sub('[^a-zA-Z0-9]',\" \",sentence[sent]).lower().split()\n",
    "    \n",
    "    review = [lemmatizer.lemmatize(word) for word in reivew if not word in set(stopwords.words('english'))]\n",
    "    review = [stemmer.stem(word) for word in reivew]\n",
    "    \n",
    "    reivew = \" \".join(review)\n",
    "    corpus.append(review)\n",
    "corpus"
   ]
  },
  {
   "cell_type": "code",
   "execution_count": null,
   "id": "37192ac0",
   "metadata": {},
   "outputs": [],
   "source": [
    "import re \n",
    "from nltk.corpus import stopwords\n",
    "from nltk.stem import PorterStemmer \n",
    "corpus = []\n",
    "for i in range(len(sentence)):\n",
    "    review = re.sub('[^a-zA-Z0-9]',\" \",sentence[i]).lower().split()\n",
    "    \n",
    "    reivew = [lemmatizer.lemmatize(word) for word in review if not word in set(stopwords.words('english'))]\n",
    "    review = [stemmer.stem(word) for word in reivew]\n",
    "    reivew= ' '.join(reivew)\n",
    "    \n",
    "    corpus.append(reivew)\n",
    "corpus"
   ]
  }
 ],
 "metadata": {
  "kernelspec": {
   "display_name": "Python 3 (ipykernel)",
   "language": "python",
   "name": "python3"
  },
  "language_info": {
   "codemirror_mode": {
    "name": "ipython",
    "version": 3
   },
   "file_extension": ".py",
   "mimetype": "text/x-python",
   "name": "python",
   "nbconvert_exporter": "python",
   "pygments_lexer": "ipython3",
   "version": "3.11.5"
  }
 },
 "nbformat": 4,
 "nbformat_minor": 5
}
