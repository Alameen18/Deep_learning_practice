{
 "cells": [
  {
   "cell_type": "code",
   "execution_count": 4,
   "id": "1c605b7d",
   "metadata": {},
   "outputs": [],
   "source": [
    "import numpy as np\n",
    "import pandas as pd\n",
    "import tensorflow as tf\n",
    "from tensorflow import keras\n",
    "import cv2"
   ]
  },
  {
   "cell_type": "code",
   "execution_count": 6,
   "id": "a195546a",
   "metadata": {},
   "outputs": [],
   "source": [
    "model = keras.models.load_model('HandWrittenDigitsClassifier.sav')"
   ]
  },
  {
   "cell_type": "code",
   "execution_count": 7,
   "id": "524f6efd",
   "metadata": {},
   "outputs": [
    {
     "name": "stdout",
     "output_type": "stream",
     "text": [
      "Model: \"sequential\"\n",
      "_________________________________________________________________\n",
      " Layer (type)                Output Shape              Param #   \n",
      "=================================================================\n",
      " dense (Dense)               (None, 512)               401920    \n",
      "                                                                 \n",
      " dense_1 (Dense)             (None, 10)                5130      \n",
      "                                                                 \n",
      "=================================================================\n",
      "Total params: 407050 (1.55 MB)\n",
      "Trainable params: 407050 (1.55 MB)\n",
      "Non-trainable params: 0 (0.00 Byte)\n",
      "_________________________________________________________________\n"
     ]
    }
   ],
   "source": [
    "model.summary()"
   ]
  },
  {
   "cell_type": "code",
   "execution_count": 8,
   "id": "87bdc562",
   "metadata": {},
   "outputs": [],
   "source": [
    "def preprocess_image(image_path):\n",
    "#     read image using opencv\n",
    "    img = cv2.imread(image_path,cv2.IMREAD_GRAYSCALE)\n",
    "#     resize the image \n",
    "    img = cv2.resize(img,(28,28))\n",
    "#     normalize pixel value to between 0 to 1\n",
    "    img = img / 255\n",
    "#     reshape the image to match the training data \n",
    "    img = np.reshape(img,(1,28*28))\n",
    "    \n",
    "    return img"
   ]
  },
  {
   "cell_type": "code",
   "execution_count": 9,
   "id": "f1305732",
   "metadata": {},
   "outputs": [],
   "source": [
    "# In this code we create a classify function for image classification \n",
    "def classify_image(image_path):\n",
    "#     preprocessing the image using preprocessing function\n",
    "    preprocessed_image = preprocess_image(image_path)\n",
    "#     predict the preprocess image \n",
    "    prediction = model.predict(preprocessed_image)\n",
    "#     use problistic approch for classifying \n",
    "    prob_predict = np.argmax(prediction)\n",
    "#     return the approch\n",
    "    return prob_predict"
   ]
  },
  {
   "cell_type": "code",
   "execution_count": 16,
   "id": "eed02842",
   "metadata": {},
   "outputs": [
    {
     "name": "stdout",
     "output_type": "stream",
     "text": [
      "1/1 [==============================] - 0s 387ms/step\n",
      "The predicted image number is:  0\n"
     ]
    }
   ],
   "source": [
    "classify = classify_image('images.jpg')\n",
    "\n",
    "print(\"The predicted image number is: \",classify)"
   ]
  }
 ],
 "metadata": {
  "kernelspec": {
   "display_name": "Python 3 (ipykernel)",
   "language": "python",
   "name": "python3"
  },
  "language_info": {
   "codemirror_mode": {
    "name": "ipython",
    "version": 3
   },
   "file_extension": ".py",
   "mimetype": "text/x-python",
   "name": "python",
   "nbconvert_exporter": "python",
   "pygments_lexer": "ipython3",
   "version": "3.11.5"
  }
 },
 "nbformat": 4,
 "nbformat_minor": 5
}
